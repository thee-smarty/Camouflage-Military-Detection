import gradio as gr
import pickle
import cv2
import numpy as np
from PIL import Image
import matplotlib.pyplot as plt

image_size2=(512,512)

# Load the model from the pickle file
pickle_file_path = "/content/drive/MyDrive/model750 .pickle"
with open(pickle_file_path, 'rb') as f:
    model = pickle.load(f)

# Define the prediction function
def predict(input_image):
    size = input_image.shape[:2]
    if (size[1]==size[0]):
      pltsize=(5,5)
    elif (size[1]>size[0]):
      pltsize=(6,5)
    else:
      pltsize=(5,6)
    otimg = cv2.cvtColor(np.array(input_image), cv2.COLOR_RGB2GRAY)

    # Resize the image
    img_size2 = (512, 512)
    timg = cv2.resize(otimg, img_size2)

    # Prepare the image for prediction
    proc_image = np.array([timg])

    # Make predictions using the ML model
    predictions = model.predict(proc_image)
    output_image=cv2.resize(predictions[0],size)

    # Create a plot from the prediction array
    plt.figure(figsize=pltsize)
    plt.imshow(output_image, cmap='gray')
    plt.axis('off')
    plot = plt.gcf()

    # Return the image
    return plot


# Create the Gradio interface
iface = gr.Interface(
    fn=predict,
    inputs="image",
    outputs="plot",
    title="Camoflauged Military Segmentation",
    description="Upload an image to detect and segment military soldiers",
    theme="dark",
)

# Launch the interface
iface.launch(debug=True)
