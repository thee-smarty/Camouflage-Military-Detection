{
  "nbformat": 4,
  "nbformat_minor": 0,
  "metadata": {
    "colab": {
      "provenance": [],
      "authorship_tag": "ABX9TyM6qKYdu+a1+3gC/07tZypi"
    },
    "kernelspec": {
      "name": "python3",
      "display_name": "Python 3"
    },
    "language_info": {
      "name": "python"
    }
  },
  "cells": [
    {
      "cell_type": "code",
      "execution_count": null,
      "metadata": {
        "id": "oIicm0VMb1OL"
      },
      "outputs": [],
      "source": [
        "import pickle\n",
        "\n",
        "pickle_file_path = \"model.pickle\"\n",
        "\n",
        "with open(pickle_file_path, 'rb') as f:\n",
        "    model = pickle.load(f)"
      ]
    },
    {
      "cell_type": "code",
      "source": [
        "def apply_visual_attention(path):\n",
        "    img = cv2.imread(path, cv2.IMREAD_GRAYSCALE)\n",
        "    return img"
      ],
      "metadata": {
        "id": "SiqJe6swc3ml"
      },
      "execution_count": null,
      "outputs": []
    },
    {
      "cell_type": "code",
      "source": [
        "import matplotlib.pyplot as plt\n",
        "import numpy as np\n",
        "import cv2\n",
        "\n",
        "img_path='image.jpg'\n",
        "img_size2=(512,512)\n",
        "\n",
        "otimg = cv2.imread(img_path)\n",
        "otimg = cv2.cvtColor(otimg, cv2.COLOR_BGR2GRAY)\n",
        "timg = cv2.resize(otimg, img_size2)\n",
        "\n",
        "plt.imshow(timg)\n",
        "timg=np.array([timg])\n",
        "\n",
        "print(timg.shape)\n",
        "predictions = model.predict(timg)\n",
        "plt.imshow(predictions[0],cmap=\"gray\")"
      ],
      "metadata": {
        "id": "Jc24txRtc6cr"
      },
      "execution_count": null,
      "outputs": []
    }
  ]
}